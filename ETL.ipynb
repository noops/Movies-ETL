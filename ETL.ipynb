{
 "metadata": {
  "language_info": {
   "codemirror_mode": {
    "name": "ipython",
    "version": 3
   },
   "file_extension": ".py",
   "mimetype": "text/x-python",
   "name": "python",
   "nbconvert_exporter": "python",
   "pygments_lexer": "ipython3",
   "version": "3.7.7-final"
  },
  "orig_nbformat": 2,
  "kernelspec": {
   "name": "python_defaultSpec_1595346872660",
   "display_name": "Python 3.7.7 64-bit ('PythonData': conda)"
  }
 },
 "nbformat": 4,
 "nbformat_minor": 2,
 "cells": [
  {
   "cell_type": "code",
   "execution_count": null,
   "metadata": {},
   "outputs": [],
   "source": [
    "import json\n",
    "import pandas as pd\n",
    "import numpy as np "
   ]
  },
  {
   "cell_type": "code",
   "execution_count": null,
   "metadata": {},
   "outputs": [],
   "source": [
    "file_dir = '/Users/bkirton/desktop/dataAustin2020/Movies-ETL/resources/'"
   ]
  },
  {
   "cell_type": "code",
   "execution_count": null,
   "metadata": {},
   "outputs": [],
   "source": [
    "with open(f'{file_dir}wikipedia.movies.json', mode='r') as file:\n",
    "    wiki_movies_raw = json.load(file)"
   ]
  },
  {
   "cell_type": "code",
   "execution_count": null,
   "metadata": {},
   "outputs": [],
   "source": [
    "kaggle_metadata = pd.read_csv(f'{file_dir}movies_metadata.csv')\n",
    "ratings = pd.read_csv(f'{file_dir}ratings.csv')"
   ]
  },
  {
   "cell_type": "code",
   "execution_count": null,
   "metadata": {},
   "outputs": [],
   "source": [
    "wiki_movies_df = pd.DataFrame(wiki_movies_raw)\n",
    "wiki_movies_df.head()"
   ]
  },
  {
   "cell_type": "code",
   "execution_count": null,
   "metadata": {},
   "outputs": [],
   "source": [
    "wiki_movies = [movie for movie in wiki_movies_raw \n",
    "                if ('Director' in movie or 'Directed by' in movie) \n",
    "                and 'imdb_link' in movie\n",
    "                and 'No. of episodes' not in movie]\n",
    "len(wiki_movies)"
   ]
  },
  {
   "cell_type": "code",
   "execution_count": 62,
   "metadata": {
    "tags": []
   },
   "outputs": [],
   "source": [
    "def clean_movie(movie):\n",
    "    #create a non destructive copy\n",
    "    movie = dict(movie)\n",
    "    alt_titles = {}\n",
    "    for key in ['Also known as','Arabic','Cantonese','Chinese','French',\n",
    "                'Hangul','Hebrew','Hepburn','Japanese','Literally',\n",
    "                'Mandarin','McCune–Reischauer','Original title','Polish',\n",
    "                'Revised Romanization','Romanized','Russian',\n",
    "                'Simplified','Traditional','Yiddish']:\n",
    "        if key in movie:\n",
    "            alt_titles[key] = movie[key]\n",
    "            movie.pop(key)\n",
    "    if len(alt_titles)>0:\n",
    "        movie['alt_titles'] = alt_titles\n",
    "    return movie"
   ]
  },
  {
   "cell_type": "code",
   "execution_count": 63,
   "metadata": {},
   "outputs": [],
   "source": [
    "clean_movies = [clean_movie(movie) for movie in wiki_movies]"
   ]
  },
  {
   "cell_type": "code",
   "execution_count": 64,
   "metadata": {},
   "outputs": [
    {
     "output_type": "execute_result",
     "data": {
      "text/plain": "['Adaptation by',\n 'Animation by',\n 'Audio format',\n 'Based on',\n 'Box office',\n 'Budget',\n 'Cinematography',\n 'Color process',\n 'Composer(s)',\n 'Country',\n 'Country of origin',\n 'Created by',\n 'Directed by',\n 'Director',\n 'Distributed by',\n 'Distributor',\n 'Edited by',\n 'Editor(s)',\n 'Executive producer(s)',\n 'Followed by',\n 'Genre',\n 'Label',\n 'Language',\n 'Length',\n 'Music by',\n 'Narrated by',\n 'Original language(s)',\n 'Original network',\n 'Original release',\n 'Picture format',\n 'Preceded by',\n 'Produced by',\n 'Producer',\n 'Producer(s)',\n 'Production company(s)',\n 'Production location(s)',\n 'Productioncompanies ',\n 'Productioncompany ',\n 'Recorded',\n 'Release date',\n 'Released',\n 'Running time',\n 'Screen story by',\n 'Screenplay by',\n 'Starring',\n 'Story by',\n 'Suggested by',\n 'Theme music composer',\n 'Venue',\n 'Voices of',\n 'Written by',\n 'alt_titles',\n 'imdb_link',\n 'title',\n 'url',\n 'year']"
     },
     "metadata": {},
     "execution_count": 64
    }
   ],
   "source": [
    "wiki_movies_df = pd.DataFrame(clean_movies)\n",
    "sorted(wiki_movies_df.columns.to_list())"
   ]
  },
  {
   "cell_type": "code",
   "execution_count": null,
   "metadata": {},
   "outputs": [],
   "source": []
  }
 ]
}